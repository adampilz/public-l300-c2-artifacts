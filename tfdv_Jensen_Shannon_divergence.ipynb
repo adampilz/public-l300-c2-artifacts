{
 "cells": [
  {
   "cell_type": "code",
   "execution_count": null,
   "id": "725be3c8-5cee-4981-af91-f700c386febf",
   "metadata": {},
   "outputs": [],
   "source": [
    "# user managed notebook = TensorFlow Enterprise 2.6 withou GPU\n",
    "# install tfdv running this in terminal: pip install --user tensorflow-data-validation\n",
    "# if data lives in GCS: pip install --user 'google.cloud.storage==1.44.0'"
   ]
  },
  {
   "cell_type": "code",
   "execution_count": null,
   "id": "cb6e6b41-48eb-4c6d-a0fa-a11d5ee69082",
   "metadata": {},
   "outputs": [],
   "source": [
    "import tensorflow as tf\n",
    "import tensorflow_data_validation as tfdv\n",
    "from tensorflow_data_validation.utils import slicing_util\n",
    "\n",
    "import pandas as pd\n",
    "import numpy as np\n",
    "from sklearn.datasets import make_classification\n",
    "from google.cloud import storage"
   ]
  },
  {
   "cell_type": "code",
   "execution_count": null,
   "id": "569262c5-c9d7-454f-a76d-e2332f7dd0fa",
   "metadata": {},
   "outputs": [],
   "source": [
    "#####################################################################\n",
    "#\n",
    "# if your data is in GCS....\n",
    "#\n",
    "#####################################################################"
   ]
  },
  {
   "cell_type": "code",
   "execution_count": null,
   "id": "cec7dfc5-ffad-4f78-bb39-eb03a6c30c91",
   "metadata": {},
   "outputs": [],
   "source": [
    "# set params\n",
    "PROJECT_ID = \"my-project\"\n",
    "GCS_BUCKET = \"my-bucket\"\n",
    "REGION = \"us-central1\"\n",
    "\n",
    "# get training data\n",
    "gcs_client = storage.Client(project=PROJECT_ID)\n",
    "bucket = gcs_client.get_bucket(GCS_BUCKET)\n",
    "blob_name = \"tabular_binary_class_even_split_slim.csv\"\n",
    "blob = bucket.blob(blob_name)\n",
    "blob.download_to_filename(blob_name)\n",
    "\n",
    "print(\"Downloaded blob {} to {}.\".format(blob.name, blob_name))"
   ]
  },
  {
   "cell_type": "code",
   "execution_count": null,
   "id": "100f303b-3e54-42c8-9f07-33bb171e1f20",
   "metadata": {},
   "outputs": [],
   "source": [
    "#####################################################################\n",
    "#\n",
    "# for this exercise, generate synthetic data using sklearn\n",
    "#\n",
    "#####################################################################"
   ]
  },
  {
   "cell_type": "code",
   "execution_count": null,
   "id": "4078857b-3c96-4dbc-9610-42aef4a6774e",
   "metadata": {},
   "outputs": [],
   "source": [
    "# create \"training\" data\n",
    "x, y = make_classification(n_classes=2\n",
    "                           , n_samples=10000\n",
    "                           , n_features=5\n",
    "                           , n_informative=5\n",
    "                           , n_redundant=0\n",
    "                           , n_repeated=0\n",
    "                           , random_state=34098)\n",
    "\n",
    "training_data = np.concatenate((x, y[:,None]), axis=1)\n",
    "num_cols = x.shape[1]\n",
    "col_names = ','.join([f\"x_{i}\" for i in range(num_cols)] + ['label'])\n",
    "col_names"
   ]
  },
  {
   "cell_type": "code",
   "execution_count": null,
   "id": "d4f59a60-5a8a-4be3-91df-6a14fd41c337",
   "metadata": {},
   "outputs": [],
   "source": [
    "# save training data to csv\n",
    "train_data_file = 'train.csv'\n",
    "np.savetxt( train_data_file\n",
    "           , training_data\n",
    "           , delimiter=','\n",
    "           , fmt='%f'\n",
    "           , header=col_names\n",
    "           , comments=\"\")"
   ]
  },
  {
   "cell_type": "code",
   "execution_count": null,
   "id": "31c635f4-1845-4152-82d7-90d7c9118c75",
   "metadata": {},
   "outputs": [],
   "source": [
    "# generate synthetic eval data from a totally diff distribution\n",
    "eval_data_file = 'eval.csv'\n",
    "\n",
    "eval_data = np.random.rand(10000,5)+100\n",
    "\n",
    "num_cols = eval_data.shape[1]\n",
    "col_names = ','.join([f\"x_{i}\" for i in range(num_cols)])\n",
    "print(col_names)\n",
    "\n",
    "np.savetxt(  eval_data_file\n",
    "           , eval_data\n",
    "           , delimiter=','\n",
    "           , fmt='%f'\n",
    "           , header=col_names\n",
    "           , comments=\"\")"
   ]
  },
  {
   "cell_type": "code",
   "execution_count": null,
   "id": "bb3f00d3-107e-4fe9-ba88-3b1c37d62864",
   "metadata": {},
   "outputs": [],
   "source": [
    "TRAIN_DATA = train_data_file\n",
    "EVAL_DATA = eval_data_file"
   ]
  },
  {
   "cell_type": "code",
   "execution_count": null,
   "id": "194e75c5-d897-45b9-808d-436455d3464d",
   "metadata": {},
   "outputs": [],
   "source": [
    "train_stats = tfdv.generate_statistics_from_csv(data_location=TRAIN_DATA)"
   ]
  },
  {
   "cell_type": "code",
   "execution_count": null,
   "id": "82f4b0a6-8c87-461d-b056-6ed02afc1f82",
   "metadata": {},
   "outputs": [],
   "source": [
    "tfdv.visualize_statistics(train_stats)"
   ]
  },
  {
   "cell_type": "code",
   "execution_count": null,
   "id": "e6a79566-43cb-4f43-8691-d7aeec9fbfb2",
   "metadata": {},
   "outputs": [],
   "source": [
    "# generate schema from training data\n",
    "schema = tfdv.infer_schema(statistics=train_stats)\n",
    "tfdv.display_schema(schema=schema)"
   ]
  },
  {
   "cell_type": "code",
   "execution_count": null,
   "id": "17a86264-7cdc-46e3-b6ac-b34fd0852281",
   "metadata": {},
   "outputs": [],
   "source": [
    "# Compute stats for evaluation data\n",
    "eval_stats = tfdv.generate_statistics_from_csv(data_location=EVAL_DATA)"
   ]
  },
  {
   "cell_type": "code",
   "execution_count": null,
   "id": "f6d85abf-b5fe-4576-bfc1-002df6cffa7e",
   "metadata": {},
   "outputs": [],
   "source": [
    "# Compare evaluation data with training data\n",
    "tfdv.visualize_statistics(lhs_statistics=eval_stats, rhs_statistics=train_stats,\n",
    "                          lhs_name='EVAL_DATASET', rhs_name='TRAIN_DATASET')"
   ]
  },
  {
   "cell_type": "code",
   "execution_count": null,
   "id": "9e03e533-4849-493c-b228-9c49981854fc",
   "metadata": {},
   "outputs": [],
   "source": [
    "#####################################################################\n",
    "#\n",
    "#  Schema validation\n",
    "#\n",
    "#####################################################################"
   ]
  },
  {
   "cell_type": "code",
   "execution_count": null,
   "id": "b2f07a91-8dcf-41a9-a068-116a6d137619",
   "metadata": {},
   "outputs": [],
   "source": [
    "# Check eval data for errors by validating against previously inferred schema.\n",
    "anomalies = tfdv.validate_statistics(statistics=eval_stats, schema=schema)\n",
    "tfdv.display_anomalies(anomalies)"
   ]
  },
  {
   "cell_type": "code",
   "execution_count": null,
   "id": "1d720a09-0cc0-433f-b46d-b71bf51f5ec7",
   "metadata": {},
   "outputs": [],
   "source": [
    "#####################################################################\n",
    "#\n",
    "#  Jensen-Shannon divergence: Drift\n",
    "#\n",
    "#####################################################################"
   ]
  },
  {
   "cell_type": "code",
   "execution_count": null,
   "id": "74483590-fd11-4322-973d-385f8de84583",
   "metadata": {},
   "outputs": [],
   "source": [
    "# with no comparators set, no anomalies are detected\n",
    "skew_anomalies = tfdv.validate_statistics(train_stats, schema, previous_statistics=eval_stats)\n",
    "tfdv.display_anomalies(skew_anomalies)"
   ]
  },
  {
   "cell_type": "code",
   "execution_count": null,
   "id": "db301476-f4cf-4167-abf7-681c37dba99f",
   "metadata": {},
   "outputs": [],
   "source": [
    "# set comparators for drift (current versus previous)\n",
    "x_0 = tfdv.get_feature(schema, 'x_0')\n",
    "x_0.drift_comparator.jensen_shannon_divergence.threshold = 0.001\n",
    "\n",
    "#note: previous_statistics in next line relates to drift_comparator above\n",
    "skew_anomalies = tfdv.validate_statistics(train_stats, schema, previous_statistics=eval_stats)\n",
    "tfdv.display_anomalies(skew_anomalies)"
   ]
  },
  {
   "cell_type": "code",
   "execution_count": null,
   "id": "7ce0b3bd-868a-468b-8643-8d7742492bb3",
   "metadata": {},
   "outputs": [],
   "source": [
    "# set comparators for drift (current versus previous)\n",
    "x_0 = tfdv.get_feature(schema, 'x_0')\n",
    "x_0.drift_comparator.jensen_shannon_divergence.threshold = 1.0\n",
    "\n",
    "x_1 = tfdv.get_feature(schema, 'x_1')\n",
    "x_1.drift_comparator.jensen_shannon_divergence.threshold = 0.1\n",
    "\n",
    "x_2 = tfdv.get_feature(schema, 'x_2')\n",
    "x_2.drift_comparator.jensen_shannon_divergence.threshold = 0.001\n",
    "\n",
    "x_3 = tfdv.get_feature(schema, 'x_3')\n",
    "x_3.drift_comparator.jensen_shannon_divergence.threshold = 0.0001\n",
    "\n",
    "x_4 = tfdv.get_feature(schema, 'x_4')\n",
    "x_4.drift_comparator.jensen_shannon_divergence.threshold = 0.00001\n",
    "\n",
    "skew_anomalies = tfdv.validate_statistics(train_stats, schema, previous_statistics=eval_stats)\n",
    "tfdv.display_anomalies(skew_anomalies)"
   ]
  },
  {
   "cell_type": "code",
   "execution_count": null,
   "id": "f36b165e-44f2-49d9-84c1-4d1c26bde55a",
   "metadata": {},
   "outputs": [],
   "source": [
    "#####################################################################\n",
    "#\n",
    "#  Jensen-Shannon divergence: Skew\n",
    "#\n",
    "#####################################################################"
   ]
  },
  {
   "cell_type": "code",
   "execution_count": null,
   "id": "9edcd7db-f00a-4ee8-bf46-092596ca23d8",
   "metadata": {},
   "outputs": [],
   "source": [
    "# set comparators for skew (training versus serving)\n",
    "x_0 = tfdv.get_feature(schema, 'x_0')\n",
    "x_0.skew_comparator.jensen_shannon_divergence.threshold = 0.001\n",
    "\n",
    "#note: serving_statistics in next line relates to skew_comparator above\n",
    "skew_anomalies = tfdv.validate_statistics(train_stats, schema, serving_statistics=eval_stats)\n",
    "tfdv.display_anomalies(skew_anomalies)"
   ]
  },
  {
   "cell_type": "code",
   "execution_count": null,
   "id": "151d2f85-eade-409e-84a3-d0cf62d3abcc",
   "metadata": {},
   "outputs": [],
   "source": [
    "# set comparators for skew (training versus serving)\n",
    "x_0 = tfdv.get_feature(schema, 'x_0')\n",
    "x_0.skew_comparator.jensen_shannon_divergence.threshold = 1.0\n",
    "\n",
    "x_1 = tfdv.get_feature(schema, 'x_1')\n",
    "x_1.skew_comparator.jensen_shannon_divergence.threshold = 0.1\n",
    "\n",
    "x_2 = tfdv.get_feature(schema, 'x_2')\n",
    "x_2.skew_comparator.jensen_shannon_divergence.threshold = 0.001\n",
    "\n",
    "x_3 = tfdv.get_feature(schema, 'x_3')\n",
    "x_3.skew_comparator.jensen_shannon_divergence.threshold = 0.0001\n",
    "\n",
    "x_4 = tfdv.get_feature(schema, 'x_4')\n",
    "x_4.skew_comparator.jensen_shannon_divergence.threshold = 0.00001\n",
    "\n",
    "#note: serving_statistics in next line relates to skew_comparator above\n",
    "skew_anomalies = tfdv.validate_statistics(train_stats, schema, serving_statistics=eval_stats)\n",
    "tfdv.display_anomalies(skew_anomalies)"
   ]
  }
 ],
 "metadata": {
  "environment": {
   "kernel": "python3",
   "name": "common-cpu.m95",
   "type": "gcloud",
   "uri": "gcr.io/deeplearning-platform-release/base-cpu:m95"
  },
  "kernelspec": {
   "display_name": "Python 3",
   "language": "python",
   "name": "python3"
  },
  "language_info": {
   "codemirror_mode": {
    "name": "ipython",
    "version": 3
   },
   "file_extension": ".py",
   "mimetype": "text/x-python",
   "name": "python",
   "nbconvert_exporter": "python",
   "pygments_lexer": "ipython3",
   "version": "3.7.12"
  }
 },
 "nbformat": 4,
 "nbformat_minor": 5
}
